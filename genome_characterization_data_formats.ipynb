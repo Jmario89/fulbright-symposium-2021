{
 "cells": [
  {
   "cell_type": "markdown",
   "id": "f9cad22f",
   "metadata": {},
   "source": [
    "# Demo 1 - Genomic characterization and data formats\n",
    "***"
   ]
  },
  {
   "cell_type": "markdown",
   "id": "e4c699d5",
   "metadata": {},
   "source": [
    "**Variant Callling Format (VCF)** is the most commonly used format to represent genomic data."
   ]
  },
  {
   "cell_type": "markdown",
   "id": "68e60aae",
   "metadata": {},
   "source": [
    "## **Step 1.** We start our demo with VCF files obtained from the [1000 Genomes Project](https://www.internationalgenome.org/data-portal/sample)"
   ]
  },
  {
   "cell_type": "markdown",
   "id": "e3f23c2c",
   "metadata": {},
   "source": [
    "`ls data/allCombined.v*`\n",
    "\n",
    "```\n",
    "data/allCombined.vcf\n",
    "```"
   ]
  },
  {
   "cell_type": "markdown",
   "id": "ac8fe186",
   "metadata": {},
   "source": [
    "### These VCF files contain individuals from 4 different populations:\n",
    "* Colombian in Medellín Colombia (CLM)\n",
    "* Iberian Populations in Spain (IBS)\n",
    "* Peruvian in Lima Peru (PEL)\n",
    "* Yoruba in Ibadan, Nigeria (YRI)"
   ]
  },
  {
   "cell_type": "markdown",
   "id": "bf1a8c4c",
   "metadata": {},
   "source": [
    "\n",
    "#### Let's have a look at these files."
   ]
  },
  {
   "cell_type": "markdown",
   "id": "a60127c8",
   "metadata": {},
   "source": [
    "`grep -v \"^##\" data/CLM.chr22.vcf -m10 | cut -f1-13`\n",
    "\n",
    "```\n",
    "##fileformat=VCFv4.1\n",
    "##FILTER=<ID=PASS,Description=\"All filters passed\">\n",
    "##fileDate=20150218\n",
    "##reference=ftp://ftp.1000genomes.ebi.ac.uk//vol1/ftp/technical/reference/phase2_reference_assembly_sequence/hs37d5.fa.gz\n",
    "##source=1000GenomesPhase3Pipeline\n",
    "##contig=<ID=1,assembly=b37,length=249250621>\n",
    "##contig=<ID=2,assembly=b37,length=243199373>\n",
    "##INFO=<ID=MEND,Number=1,Type=Integer,Description=\"Mitochondrial end coordinate of inserted sequence\">\n",
    "##INFO=<ID=MLEN,Number=1,Type=Integer,Description=\"Estimated length of mitochondrial insert\">\n",
    "#CHROM\tPOS\tID\tREF\tALT\tQUAL\tFILTER\tINFO\tFORMAT\tHG01112\tHG01113\tHG01119\tHG01121\n",
    "22\t16050075\trs587697622\tA\tG\t100\tPASS\tAC=1;AF=0.000199681;AN=5008;NS=2504;DP=8012;EAS_AF=0;AMR_AF=0;AFR_AF=0;EUR_AF=0;SAS_AF=0.001;AA=.|||;VT=SNP\tGT\t0|0\t0|0\t0|0\t0|0\n",
    "22\t16050115\trs587755077\tG\tA\t100\tPASS\tAC=32;AF=0.00638978;AN=5008;NS=2504;DP=11468;EAS_AF=0;AMR_AF=0.0014;AFR_AF=0.0234;EUR_AF=0;SAS_AF=0;AA=.|||;VT=SNP\tGT\t0|0\t0|0\t0|0\t0|0\n",
    "22\t16050213\trs587654921\tC\tT\t100\tPASS\tAC=38;AF=0.00758786;AN=5008;NS=2504;DP=15092;EAS_AF=0;AMR_AF=0.0014;AFR_AF=0.0272;EUR_AF=0.001;SAS_AF=0;AA=.|||;VT=SNP\tGT\t0|0\t0|0\t0|0\t0|0\n",
    "22\t16050319\trs587712275\tC\tT\t100\tPASS\tAC=1;AF=0.000199681;AN=5008;NS=2504;DP=22609;EAS_AF=0;AMR_AF=0.0014;AFR_AF=0;EUR_AF=0;SAS_AF=0;AA=.|||;VT=SNP\tGT\t0|0\t0|0\t0|0\t0|0\n",
    "22\t16050527\trs587769434\tC\tA\t100\tPASS\tAC=1;AF=0.000199681;AN=5008;NS=2504;DP=23591;EAS_AF=0;AMR_AF=0;AFR_AF=0;EUR_AF=0.001;SAS_AF=0;AA=.|||;VT=SNP\tGT\t0|0\t0|0\t0|0\t0|0\n",
    "22\t16050568\trs587638893\tC\tA\t100\tPASS\tAC=2;AF=0.000399361;AN=5008;NS=2504;DP=21258;EAS_AF=0.002;AMR_AF=0;AFR_AF=0;EUR_AF=0;SAS_AF=0;AA=.|||;VT=SNP\tGT\t0|0\t0|0\t0|0\t0|0\n",
    "22\t16050607\trs587720402\tG\tA\t100\tPASS\tAC=5;AF=0.000998403;AN=5008;NS=2504;DP=20274;EAS_AF=0;AMR_AF=0.0014;AFR_AF=0;EUR_AF=0.004;SAS_AF=0;AA=.|||;VT=SNP\tGT\t0|0\t0|0\t0|0\t0|0\n",
    "22\t16050627\trs587593704\tG\tT\t100\tPASS\tAC=2;AF=0.000399361;AN=5008;NS=2504;DP=21022;EAS_AF=0;AMR_AF=0.0014;AFR_AF=0;EUR_AF=0;SAS_AF=0.001;AA=.|||;VT=SNP\tGT\t0|0\t0|0\t0|0\t0|0\n",
    "22\t16050646\trs587670191\tG\tT\t100\tPASS\tAC=1;AF=0.000199681;AN=5008;NS=2504;DP=22073;EAS_AF=0;AMR_AF=0;AFR_AF=0;EUR_AF=0;SAS_AF=0.001;AA=.|||;VT=SNP\tGT\t0|0\t0|0\t0|0\t0|0\n",
    ".\n",
    ".\n",
    ".\n",
    "```"
   ]
  },
  {
   "cell_type": "markdown",
   "id": "26000916",
   "metadata": {},
   "source": [
    "## VCF description\n",
    "\n",
    "+ Lines strating with `##` are headers. They contain information about the entire VCF file. Commonly included info:  Chromosome included, specifics annotation info, source, genome build info.\n",
    "+ The line staring with #CHROM specifies the columns included in the VCF file. Here is an explaination of the fixed/standard columns:\n",
    "    + `CHROM`: Chromosome number\n",
    "    + `POS`: Position on the chromosome\n",
    "    + `ID`: variant identifier\n",
    "    + `REF`: Reference allele\n",
    "    + `ALT`: Alternate allele\n",
    "    + `QUAL`: Qualtiy score\n",
    "    + `FILTER`: Filters applied, if any\n",
    "    + `INFO`: Information field; details of the variables reported in a VCF file can be obtained using: `grep \"^##INFO\" <VCF FILE PATH>`\n",
    "    + `FORMAT`: Describes the format of the data for each indvidual\n",
    "    \n",
    "\n",
    "+ Starting from column 10 (`HG01112`) are individuals whose genomic variants are reported\n"
   ]
  },
  {
   "cell_type": "markdown",
   "id": "a43d9129",
   "metadata": {},
   "source": [
    "___\n",
    "***"
   ]
  },
  {
   "cell_type": "markdown",
   "id": "3787e8aa",
   "metadata": {},
   "source": [
    "## **Step 2.** We convert the VCF files to PED (Plink pedigree & genotype) file format. This file format is required for a several ancestry estimation softwares."
   ]
  },
  {
   "cell_type": "markdown",
   "id": "9fca13d5",
   "metadata": {},
   "source": [
    "`plink --vcf data/CLM.chr22.vcf --recode --out data/CLM.chr22`"
   ]
  },
  {
   "cell_type": "markdown",
   "id": "2542a235",
   "metadata": {},
   "source": [
    "### PED files are always accompanied by MAP files (hold information regarding SNPs present in VCF files)\n",
    "#### Let's have a look at these files."
   ]
  },
  {
   "cell_type": "markdown",
   "id": "eb944343",
   "metadata": {},
   "source": [
    "`cut -f1-50 -d \" \" data/CLM.chr22.ped | head -n10`\n",
    "\n",
    "```\n",
    "HG01112 HG01112 0 0 0 -9 2 2 2 2 2 2 2 2 2 2 2 2 2 2 2 2 2 2 2 2 2 2 2 2 2 2 2 2 2 2 2 2 2 2 2 2 2 2 2 2 2 2 2 2\n",
    "HG01113 HG01113 0 0 0 -9 2 2 2 2 2 2 2 2 2 2 2 2 2 2 2 2 2 2 2 2 2 2 2 2 2 2 2 2 2 2 2 2 2 2 2 2 2 2 2 2 2 2 2 2\n",
    "HG01119 HG01119 0 0 0 -9 2 2 2 2 2 2 2 2 2 2 2 2 2 2 2 2 2 2 2 2 2 2 2 2 2 2 2 2 2 2 2 2 2 2 2 2 2 2 2 2 2 2 2 2\n",
    "HG01121 HG01121 0 0 0 -9 2 2 2 2 2 2 2 2 2 2 2 2 2 2 2 2 2 2 2 2 2 2 2 2 2 2 2 2 2 2 2 2 2 2 2 2 2 2 2 2 2 2 2 2\n",
    "HG01122 HG01122 0 0 0 -9 2 2 2 2 2 2 2 2 2 2 2 2 2 2 2 2 2 2 0 0 2 2 2 2 2 2 2 2 2 2 2 2 2 2 2 2 2 2 2 2 2 2 2 2\n",
    "HG01124 HG01124 0 0 0 -9 2 2 2 2 2 2 2 2 2 2 2 2 2 2 2 2 2 2 2 2 2 2 2 2 2 2 2 2 2 2 2 2 2 2 2 2 2 2 2 2 2 2 2 2\n",
    "HG01125 HG01125 0 0 0 -9 2 2 2 2 2 2 2 2 2 2 2 2 2 2 2 2 2 2 2 2 2 2 2 2 2 2 2 2 2 2 2 2 2 2 2 2 2 2 2 2 2 2 2 2\n",
    "HG01130 HG01130 0 0 0 -9 2 2 2 2 2 2 2 2 2 2 2 2 2 2 2 2 2 2 2 2 2 2 2 2 2 2 2 2 2 2 2 2 2 2 2 2 2 2 2 2 2 2 2 2\n",
    "HG01131 HG01131 0 0 0 -9 2 2 2 2 2 2 2 2 2 2 2 2 2 2 2 2 2 2 1 2 2 2 2 2 2 2 2 2 2 2 2 2 2 2 2 2 2 2 2 2 2 2 2 2\n",
    "HG01133 HG01133 0 0 0 -9 2 2 2 2 2 2 2 2 2 2 2 2 2 2 2 2 2 2 2 2 2 2 2 2 2 2 2 2 2 2 2 2 2 2 2 2 2 2 2 2 2 2 2 2\n",
    "```"
   ]
  },
  {
   "cell_type": "markdown",
   "id": "51e3ad39",
   "metadata": {},
   "source": [
    "`head data/CLM.chr22.map`\n",
    "\n",
    "```\n",
    "22\trs587697622\t0\t16050075\n",
    "22\trs587755077\t0\t16050115\n",
    "22\trs587654921\t0\t16050213\n",
    "22\trs587712275\t0\t16050319\n",
    "22\trs587769434\t0\t16050527\n",
    "22\trs587638893\t0\t16050568\n",
    "22\trs587720402\t0\t16050607\n",
    "22\trs587593704\t0\t16050627\n",
    "22\trs587670191\t0\t16050646\n",
    "```"
   ]
  },
  {
   "cell_type": "markdown",
   "id": "b0efa4e2",
   "metadata": {},
   "source": [
    "***\n",
    "___"
   ]
  },
  {
   "cell_type": "markdown",
   "id": "9a02ef30",
   "metadata": {},
   "source": [
    "## **Step 3.** During our last step of LD pruning, we also created a BED file from our original PED file. BED files hold the exact infomration as PED files, but in binary format.\n",
    "### You can create BED files from PED files using the following command"
   ]
  },
  {
   "cell_type": "markdown",
   "id": "e844b572",
   "metadata": {},
   "source": [
    "`plink --file data/allCOmbined.chr22 --make-bed --out data/allCombined.chr22`\n",
    "\n",
    "```\n",
    "PLINK v1.90b6.21 64-bit (19 Oct 2020)          www.cog-genomics.org/plink/1.9/\n",
    "(C) 2005-2020 Shaun Purcell, Christopher Chang   GNU General Public License v3\n",
    "Logging to data/CLM.chr22.log.\n",
    "Options in effect:\n",
    "  --file data/CLM.chr22\n",
    "  --make-bed\n",
    "  --out data/CLM.chr22\n",
    "\n",
    "516841 MB RAM detected; reserving 258420 MB for main workspace.\n",
    ".ped scan complete (for binary autoconversion).\n",
    "Performing single-pass .bed write (1103547 variants, 94 people).\n",
    "--file: data/CLM.chr22-temporary.bed + data/CLM.chr22-temporary.bim \n",
    "data/CLM.chr22-temporary.fam written.\n",
    "1103547 variants loaded from .bim file.\n",
    "94 people (0 males, 0 females, 94 ambiguous) loaded from .fam.\n",
    "Ambiguous sex IDs written to data/CLM.chr22.nosex .\n",
    "Using 1 thread (no multithreaded calculations invoked).\n",
    "Before main variant filters, 94 founders and 0 nonfounders present.\n",
    "Calculating allele frequencies... done.\n",
    "Total genotyping rate is 0.999881.\n",
    "1103547 variants and 94 people pass filters and QC.\n",
    "Note: No phenotypes present.\n",
    "--make-bed to data/CLM.chr22.bed + data/CLM.chr22.bim + data/CLM.chr22.fam ....\n",
    "PLINK v1.90b6.21 64-bit (19 Oct 2020)          www.cog-genomics.org/plink/1.9/\n",
    "(C) 2005-2020 Shaun Purcell, Christopher Chang   GNU General Public License v3\n",
    "Logging to data/IBS.chr22.log.\n",
    "Options in effect:\n",
    "  --file data/IBS.chr22\n",
    "  --make-bed\n",
    "  --out data/IBS.chr22\n",
    "\n",
    "```"
   ]
  },
  {
   "cell_type": "markdown",
   "id": "a7aab80b",
   "metadata": {},
   "source": [
    "#### BED files are accompanied by BIM & FAM files which hold variant & sample information."
   ]
  },
  {
   "cell_type": "markdown",
   "id": "63faa694",
   "metadata": {},
   "source": [
    "`ls data/*allCombinedLD*`\n",
    "\n",
    "```\n",
    "data/allCombinedLDPruned.bed  data/allCombinedLDPruned.log\n",
    "data/allCombinedLDPruned.bim  data/allCombinedLDPruned.nosex\n",
    "data/allCombinedLDPruned.fam\n",
    "```"
   ]
  },
  {
   "cell_type": "markdown",
   "id": "8afd167d",
   "metadata": {},
   "source": [
    "`head data/allCombined.bim`\n",
    "\n",
    "```\n",
    "22\trs587697622\t0\t16050075\t0\t2\n",
    "22\trs587755077\t0\t16050115\t1\t2\n",
    "22\trs587654921\t0\t16050213\t1\t2\n",
    "22\trs587712275\t0\t16050319\t1\t2\n",
    "22\trs587769434\t0\t16050527\t1\t2\n",
    "22\trs587638893\t0\t16050568\t0\t2\n",
    "22\trs587720402\t0\t16050607\t1\t2\n",
    "22\trs587593704\t0\t16050627\t0\t2\n",
    "22\trs587670191\t0\t16050646\t0\t2\n",
    "22\tesv3647175;esv3647176;esv3647177;esv3647178\t0\t16050654\t1\t2\n",
    "```"
   ]
  },
  {
   "cell_type": "markdown",
   "id": "c06a25a8",
   "metadata": {},
   "source": [
    "`head data/allCombined.fam`\n",
    "\n",
    "```\n",
    "HG01500 HG01500 0 0 0 -9\n",
    "HG01501 HG01501 0 0 0 -9\n",
    "HG01503 HG01503 0 0 0 -9\n",
    "HG01504 HG01504 0 0 0 -9\n",
    "HG01506 HG01506 0 0 0 -9\n",
    "HG01507 HG01507 0 0 0 -9\n",
    "HG01509 HG01509 0 0 0 -9\n",
    "HG01510 HG01510 0 0 0 -9\n",
    "HG01512 HG01512 0 0 0 -9\n",
    "HG01513 HG01513 0 0 0 -9\n",
    "```"
   ]
  },
  {
   "cell_type": "markdown",
   "id": "27bc9c96",
   "metadata": {},
   "source": [
    "## BED, BIM, & FAM file descriptions; also check [plink file format descriptions](https://www.cog-genomics.org/plink/1.9/formats)\n",
    "\n",
    "+ BIM: Contains the chromosomal positions of the variants contained in the BED file\n",
    "+ FAM: Contains the population family, individual ID, parents' ID, sex, and phenotype information \n",
    "+ BED: Conatins a binarized matrix of variant information\n",
    "    "
   ]
  },
  {
   "cell_type": "markdown",
   "id": "77783d7f",
   "metadata": {},
   "source": [
    "***\n",
    "___"
   ]
  },
  {
   "cell_type": "markdown",
   "id": "d8592742",
   "metadata": {},
   "source": [
    "## **Step 4.** Ancestry estimation softwares are capable of working with as low as 10,000 SNPs. We will perform LD pruning to bring the number of SNPs down."
   ]
  },
  {
   "cell_type": "markdown",
   "id": "be1d2a3b",
   "metadata": {},
   "source": [
    "### Let's look at the initial number of SNPs in our PED files."
   ]
  },
  {
   "cell_type": "markdown",
   "id": "402f9d7d",
   "metadata": {},
   "source": [
    "`wc data/CLM.chr22.map -l`\n",
    "\n",
    "```\n",
    "1103547 data/CLM.chr22.map\n",
    "```"
   ]
  },
  {
   "cell_type": "markdown",
   "id": "e9b11e50",
   "metadata": {},
   "source": [
    "### Before we go ahead with pruning, we have to combine all the PED files (coming from 4 VCF files). Pruning is performed based on linkage disequilibrium (LD), and we should have genotype calls from all the samples before we check for LD."
   ]
  },
  {
   "cell_type": "markdown",
   "id": "1ec4a68e",
   "metadata": {},
   "source": [
    "`cat data/IBS.chr22.ped data/PEL.chr22.ped data/YRI.chr22.ped data/CLM.chr22.ped > data/allCombined.ped`\n",
    "\n",
    "`cp data/CLM.chr22.map data/allCombined.map`"
   ]
  },
  {
   "cell_type": "markdown",
   "id": "c29edf2c",
   "metadata": {},
   "source": [
    "### We will now perform LD pruning using plink.\n",
    "* Plink creates a list of SNPs that should be included after pruning."
   ]
  },
  {
   "cell_type": "markdown",
   "id": "bcfc8426",
   "metadata": {},
   "source": [
    "`plink --file data/allCombined --indep-pairwise 1000 5 0.3 --out data/allCombined`\n",
    "\n",
    "```\n",
    "PLINK v1.90b6.21 64-bit (19 Oct 2020)          www.cog-genomics.org/plink/1.9/\n",
    "(C) 2005-2020 Shaun Purcell, Christopher Chang   GNU General Public License v3\n",
    "Logging to data/allCombined.log.\n",
    "Options in effect:\n",
    "  --file data/allCombined\n",
    "  --indep-pairwise 1000 5 0.3\n",
    "  --out data/allCombined\n",
    "\n",
    "516841 MB RAM detected; reserving 258420 MB for main workspace.\n",
    ".ped scan complete (for binary autoconversion).\n",
    "\n",
    "Performing single-pass .bed write (1103547 variants, 394 people).\n",
    "--file: data/allCombined-temporary.bed + data/allCombined-temporary.bim \n",
    "    \n",
    "data/allCombined-temporary.fam written.\n",
    "1103547 variants loaded from .bim file.\n",
    "394 people (0 males, 0 females, 394 ambiguous) loaded from .fam.\n",
    "Ambiguous sex IDs written to data/allCombined.nosex .\n",
    "Using 1 thread (no multithreaded calculations invoked).\n",
    "Before main variant filters, 394 founders and 0 nonfounders present.\n",
    "Calculating allele frequencies... \n",
    "Total genotyping rate is 0.999866.\n",
    "1103547 variants and 394 people pass filters and QC.\n",
    "Note: No phenotypes present.\n",
    "Pruned 964115 variants from chromosome 22, leaving 139432.\n",
    "Pruning complete.  964115 of 1103547 variants removed.\n",
    "Marker lists written to data/allCombined.prune.in and\n",
    "data/allCombined.prune.out .\n",
    "\n",
    "```"
   ]
  },
  {
   "cell_type": "markdown",
   "id": "891b0565",
   "metadata": {},
   "source": [
    "* We will now extract the SNPs which passed the LD pruning."
   ]
  },
  {
   "cell_type": "markdown",
   "id": "b7b99b9f",
   "metadata": {},
   "source": [
    "`plink --file data/allCombined --extract data/allCombined.prune.in --make-bed --out data/allCombinedLDPruned`\n",
    "\n",
    "```\n",
    "PLINK v1.90b6.21 64-bit (19 Oct 2020)          www.cog-genomics.org/plink/1.9/\n",
    "(C) 2005-2020 Shaun Purcell, Christopher Chang   GNU General Public License v3\n",
    "Logging to data/allCombinedLDPruned.log.\n",
    "Options in effect:\n",
    "  --extract data/allCombined.prune.in\n",
    "  --file data/allCombined\n",
    "  --make-bed\n",
    "  --out data/allCombinedLDPruned\n",
    "\n",
    "516841 MB RAM detected; reserving 258420 MB for main workspace.\n",
    ".ped scan complete (for binary autoconversion).\n",
    "Performing single-pass .bed write (1103547 variants, 394 people).\n",
    "--file: data/allCombinedLDPruned-temporary.bed\n",
    "data/allCombinedLDPruned-temporary.bim + data/allCombinedLDPruned-temporary.fam\n",
    "written.\n",
    "1103547 variants loaded from .bim file.\n",
    "394 people (0 males, 0 females, 394 ambiguous) loaded from .fam.\n",
    "Ambiguous sex IDs written to data/allCombinedLDPruned.nosex .\n",
    "--extract: 139469 variants remaining.\n",
    "Warning: At least 15 duplicate IDs in --extract file.\n",
    "Using 1 thread (no multithreaded calculations invoked).\n",
    "Before main variant filters, 394 founders and 0 nonfounders present.\n",
    "Calculating allele frequencies...  done.\n",
    "Total genotyping rate is 0.999632.\n",
    "139469 variants and 394 people pass filters and QC.\n",
    "Note: No phenotypes present.\n",
    "--make-bed to data/allCombinedLDPruned.bed + data/allCombinedLDPruned.bim +\n",
    "data/allCombinedLDPruned.fam ... .\n",
    "\n",
    "```"
   ]
  },
  {
   "cell_type": "markdown",
   "id": "4457498c",
   "metadata": {},
   "source": [
    "***\n",
    "___"
   ]
  }
 ],
 "metadata": {
  "kernelspec": {
   "display_name": "Python 3",
   "language": "python",
   "name": "python3"
  },
  "language_info": {
   "codemirror_mode": {
    "name": "ipython",
    "version": 3
   },
   "file_extension": ".py",
   "mimetype": "text/x-python",
   "name": "python",
   "nbconvert_exporter": "python",
   "pygments_lexer": "ipython3",
   "version": "3.7.10"
  }
 },
 "nbformat": 4,
 "nbformat_minor": 5
}
