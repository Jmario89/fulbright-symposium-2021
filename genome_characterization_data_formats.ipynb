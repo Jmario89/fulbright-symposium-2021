{
 "cells": [
  {
   "cell_type": "markdown",
   "id": "c4778bf7",
   "metadata": {},
   "source": [
    "# Genomic characterization and data formats\n",
    "***"
   ]
  },
  {
   "cell_type": "markdown",
   "id": "23b00468",
   "metadata": {},
   "source": [
    "## **Step 1.** We start our demo with VCF files obtained from the 1000 Genomes Project."
   ]
  },
  {
   "cell_type": "markdown",
   "id": "fb30e8f2",
   "metadata": {},
   "source": [
    "`ls data/*.vcf`\n",
    "\n",
    "```\n",
    "data/CLM.chr22.vcf  data/IBS.chr22.vcf\tdata/PEL.chr22.vcf  data/YRI.chr22.vcf\n",
    "```"
   ]
  },
  {
   "cell_type": "markdown",
   "id": "5fa2e76c",
   "metadata": {},
   "source": [
    "### These VCF files correspond to 4 different populations:\n",
    "* Colombian in Medellín Colombia (CLM)\n",
    "* Iberian Populations in Spain (IBS)\n",
    "* Peruvian in Lima Peru (PEL)\n",
    "* Yoruba in Ibadan, Nigeria (YRI)"
   ]
  },
  {
   "cell_type": "markdown",
   "id": "a5f8b4a0",
   "metadata": {},
   "source": [
    "\n",
    "#### Let's have a look at these files."
   ]
  },
  {
   "cell_type": "markdown",
   "id": "dacce764",
   "metadata": {},
   "source": [
    "`head data/CLM.chr22.vcf -n255 | tail -n3`\n",
    "\n",
    "```\n",
    "#CHROM\tPOS\tID\tREF\tALT\tQUAL\tFILTER\tINFO\tFORMAT\tHG01112\tHG01113\tHG01119\tHG01121\tHG01122\tHG01124\tHG01125\tHG01130\tHG01131\tHG01133\tHG01134\tHG01136\tHG01137\tHG01139\tHG01140\tHG01142\tHG01148\tHG01149\tHG01250\tHG01251\tHG01253\tHG01254\tHG01256\tHG01257\tHG01259\tHG01260\tHG01269\tHG01271\tHG01272\tHG01275\tHG01277\tHG01280\tHG01281\tHG01284\tHG01341\tHG01342\tHG01344\tHG01345\tHG01348\tHG01350\tHG01351\tHG01353\tHG01354\tHG01356\tHG01357\tHG01359\tHG01360\tHG01362\tHG01363\tHG01365\tHG01366\tHG01369\tHG01372\tHG01374\tHG01375\tHG01377\tHG01378\tHG01383\tHG01384\tHG01389\tHG01390\tHG01431\tHG01432\tHG01435\tHG01437\tHG01438\tHG01440\tHG01441\tHG01443\tHG01444\tHG01447\tHG01455\tHG01456\tHG01459\tHG01461\tHG01462\tHG01464\tHG01465\tHG01468\tHG01474\tHG01479\tHG01485\tHG01486\tHG01488\tHG01489\tHG01491\tHG01492\tHG01494\tHG01495\tHG01497\tHG01498\tHG01550\tHG01551\tHG01556\n",
    "22\t16050075\trs587697622\tA\tG\t100\tPASS\tAC=1;AF=0.000199681;AN=5008;NS=2504;DP=8012;EAS_AF=0;AMR_AF=0;AFR_AF=0;EUR_AF=0;SAS_AF=0.001;AA=.|||;VT=SNP\tGT\t0|0\t0|0\t0|0\t0|0\t0|0\t0|0\t0|0\t0|0\t0|0\t0|0\t0|0\t0|0\t0|0\t0|0\t0|0\t0|0\t0|0\t0|0\t0|0\t0|0\t0|0\t0|0\t0|0\t0|0\t0|0\t0|0\t0|0\t0|0\t0|0\t0|0\t0|0\t0|0\t0|0\t0|0\t0|0\t0|0\t0|0\t0|0\t0|0\t0|0\t0|0\t0|0\t0|0\t0|0\t0|0\t0|0\t0|0\t0|0\t0|0\t0|0\t0|0\t0|0\t0|0\t0|0\t0|0\t0|0\t0|0\t0|0\t0|0\t0|0\t0|0\t0|0\t0|0\t0|0\t0|0\t0|0\t0|0\t0|0\t0|0\t0|0\t0|0\t0|0\t0|0\t0|0\t0|0\t0|0\t0|0\t0|0\t0|0\t0|0\t0|0\t0|0\t0|0\t0|0\t0|0\t0|0\t0|0\t0|0\t0|0\t0|0\t0|0\t0|0\t0|0\t0|0\n",
    "22\t16050115\trs587755077\tG\tA\t100\tPASS\tAC=32;AF=0.00638978;AN=5008;NS=2504;DP=11468;EAS_AF=0;AMR_AF=0.0014;AFR_AF=0.0234;EUR_AF=0;SAS_AF=0;AA=.|||;VT=SNP\tGT\t0|0\t0|0\t0|0\t0|0\t0|0\t0|0\t0|0\t0|0\t0|0\t0|0\t0|0\t0|0\t0|0\t0|0\t0|0\t0|0\t0|0\t0|0\t0|0\t0|0\t0|0\t0|0\t0|0\t0|0\t0|0\t0|0\t0|0\t0|0\t0|0\t0|0\t0|0\t0|0\t0|0\t0|0\t0|0\t0|0\t0|0\t0|0\t0|0\t0|0\t0|0\t0|0\t0|0\t0|0\t0|0\t0|0\t0|0\t0|0\t0|1\t0|0\t0|0\t0|0\t0|0\t0|0\t0|0\t0|0\t0|0\t0|0\t0|0\t0|0\t0|0\t0|0\t0|0\t0|0\t0|0\t0|0\t0|0\t0|0\t0|0\t0|0\t0|0\t0|0\t0|0\t0|0\t0|0\t0|0\t0|0\t0|0\t0|0\t0|0\t0|0\t0|0\t0|0\t0|0\t0|0\t0|0\t0|0\t0|0\t0|0\t0|0\t0|0\t0|0\t0|0\t0|0\n",
    "```"
   ]
  },
  {
   "cell_type": "markdown",
   "id": "7b3d7c84",
   "metadata": {},
   "source": [
    "Markdown for what columns means"
   ]
  },
  {
   "cell_type": "markdown",
   "id": "cb07b40c",
   "metadata": {},
   "source": [
    "___\n",
    "***"
   ]
  },
  {
   "cell_type": "markdown",
   "id": "582e0570",
   "metadata": {},
   "source": [
    "## **Step 2.** We convert the VCF files to PED (Plink pedigree & genotype) file format. This file format is required for a several ancestry estimation softwares."
   ]
  },
  {
   "cell_type": "markdown",
   "id": "1450cb61",
   "metadata": {},
   "source": [
    "`plink --vcf data/CLM.chr22.vcf --recode --out data/CLM.chr22`"
   ]
  },
  {
   "cell_type": "markdown",
   "id": "acaa7592",
   "metadata": {},
   "source": [
    "### VCF files are always accompanied by MAP files (hold information regarding SNPs present in VCF files)\n",
    "#### Let's have a look at these files."
   ]
  },
  {
   "cell_type": "markdown",
   "id": "2e293d15",
   "metadata": {},
   "source": [
    "`cut -f1-50 -d \" \" data/CLM.chr22.ped | head -n10`\n",
    "\n",
    "```\n",
    "HG01112 HG01112 0 0 0 -9 2 2 2 2 2 2 2 2 2 2 2 2 2 2 2 2 2 2 2 2 2 2 2 2 2 2 2 2 2 2 2 2 2 2 2 2 2 2 2 2 2 2 2 2\n",
    "HG01113 HG01113 0 0 0 -9 2 2 2 2 2 2 2 2 2 2 2 2 2 2 2 2 2 2 2 2 2 2 2 2 2 2 2 2 2 2 2 2 2 2 2 2 2 2 2 2 2 2 2 2\n",
    "HG01119 HG01119 0 0 0 -9 2 2 2 2 2 2 2 2 2 2 2 2 2 2 2 2 2 2 2 2 2 2 2 2 2 2 2 2 2 2 2 2 2 2 2 2 2 2 2 2 2 2 2 2\n",
    "HG01121 HG01121 0 0 0 -9 2 2 2 2 2 2 2 2 2 2 2 2 2 2 2 2 2 2 2 2 2 2 2 2 2 2 2 2 2 2 2 2 2 2 2 2 2 2 2 2 2 2 2 2\n",
    "HG01122 HG01122 0 0 0 -9 2 2 2 2 2 2 2 2 2 2 2 2 2 2 2 2 2 2 0 0 2 2 2 2 2 2 2 2 2 2 2 2 2 2 2 2 2 2 2 2 2 2 2 2\n",
    "HG01124 HG01124 0 0 0 -9 2 2 2 2 2 2 2 2 2 2 2 2 2 2 2 2 2 2 2 2 2 2 2 2 2 2 2 2 2 2 2 2 2 2 2 2 2 2 2 2 2 2 2 2\n",
    "HG01125 HG01125 0 0 0 -9 2 2 2 2 2 2 2 2 2 2 2 2 2 2 2 2 2 2 2 2 2 2 2 2 2 2 2 2 2 2 2 2 2 2 2 2 2 2 2 2 2 2 2 2\n",
    "HG01130 HG01130 0 0 0 -9 2 2 2 2 2 2 2 2 2 2 2 2 2 2 2 2 2 2 2 2 2 2 2 2 2 2 2 2 2 2 2 2 2 2 2 2 2 2 2 2 2 2 2 2\n",
    "HG01131 HG01131 0 0 0 -9 2 2 2 2 2 2 2 2 2 2 2 2 2 2 2 2 2 2 1 2 2 2 2 2 2 2 2 2 2 2 2 2 2 2 2 2 2 2 2 2 2 2 2 2\n",
    "HG01133 HG01133 0 0 0 -9 2 2 2 2 2 2 2 2 2 2 2 2 2 2 2 2 2 2 2 2 2 2 2 2 2 2 2 2 2 2 2 2 2 2 2 2 2 2 2 2 2 2 2 2\n",
    "```"
   ]
  },
  {
   "cell_type": "markdown",
   "id": "bf7aa9e5",
   "metadata": {},
   "source": [
    "`head data/CLM.chr22.map`\n",
    "\n",
    "```\n",
    "22\trs587697622\t0\t16050075\n",
    "22\trs587755077\t0\t16050115\n",
    "22\trs587654921\t0\t16050213\n",
    "22\trs587712275\t0\t16050319\n",
    "22\trs587769434\t0\t16050527\n",
    "22\trs587638893\t0\t16050568\n",
    "22\trs587720402\t0\t16050607\n",
    "22\trs587593704\t0\t16050627\n",
    "22\trs587670191\t0\t16050646\n",
    "```"
   ]
  },
  {
   "cell_type": "markdown",
   "id": "9ece608e",
   "metadata": {},
   "source": [
    "***\n",
    "___"
   ]
  },
  {
   "cell_type": "markdown",
   "id": "1b3a7962",
   "metadata": {},
   "source": [
    "## **Step 3.** Ancestry estimation softwares are capable of working with as low as 10,000 SNPs. We will perform LD pruning to bring the number of SNPs down."
   ]
  },
  {
   "cell_type": "markdown",
   "id": "7ba79f5b",
   "metadata": {},
   "source": [
    "### Let's look at the initial number of SNPs in our PED files."
   ]
  },
  {
   "cell_type": "markdown",
   "id": "98c62f46",
   "metadata": {},
   "source": [
    "`wc data/CLM.chr22.map -l`\n",
    "\n",
    "```\n",
    "1103547 data/CLM.chr22.map\n",
    "```"
   ]
  },
  {
   "cell_type": "markdown",
   "id": "9ad7584f",
   "metadata": {},
   "source": [
    "### Before we go ahead with pruning, we have to combine all the PED files (coming from 4 VCF files). Pruning is performed based on linkage disequilibrium (LD), and we should have genotype calls from all the samples before we check for LD."
   ]
  },
  {
   "cell_type": "markdown",
   "id": "36c992c4",
   "metadata": {},
   "source": [
    "`cat data/IBS.chr22.ped data/PEL.chr22.ped data/YRI.chr22.ped data/CLM.chr22.ped > data/allCombined.ped`\n",
    "\n",
    "`cp data/CLM.chr22.map data/allCombined.map`"
   ]
  },
  {
   "cell_type": "markdown",
   "id": "8d248de4",
   "metadata": {},
   "source": [
    "### We will now perform LD pruning using plink.\n",
    "* Plink creates a list of SNPs that should be included after pruning."
   ]
  },
  {
   "cell_type": "markdown",
   "id": "f884548c",
   "metadata": {},
   "source": [
    "`plink --file data/allCombined --indep-pairwise 1000 5 0.3 --out data/allCombined`\n",
    "\n",
    "```\n",
    "PLINK v1.90b6.21 64-bit (19 Oct 2020)          www.cog-genomics.org/plink/1.9/\n",
    "(C) 2005-2020 Shaun Purcell, Christopher Chang   GNU General Public License v3\n",
    "Logging to data/allCombined.log.\n",
    "Options in effect:\n",
    "  --file data/allCombined\n",
    "  --indep-pairwise 1000 5 0.3\n",
    "  --out data/allCombined\n",
    "\n",
    "516841 MB RAM detected; reserving 258420 MB for main workspace.\n",
    ".ped scan complete (for binary autoconversion).\n",
    "\n",
    "Performing single-pass .bed write (1103547 variants, 394 people).\n",
    "--file: data/allCombined-temporary.bed + data/allCombined-temporary.bim \n",
    "    \n",
    "data/allCombined-temporary.fam written.\n",
    "1103547 variants loaded from .bim file.\n",
    "394 people (0 males, 0 females, 394 ambiguous) loaded from .fam.\n",
    "Ambiguous sex IDs written to data/allCombined.nosex .\n",
    "Using 1 thread (no multithreaded calculations invoked).\n",
    "Before main variant filters, 394 founders and 0 nonfounders present.\n",
    "Calculating allele frequencies... \n",
    "Total genotyping rate is 0.999866.\n",
    "1103547 variants and 394 people pass filters and QC.\n",
    "Note: No phenotypes present.\n",
    "Pruned 964115 variants from chromosome 22, leaving 139432.\n",
    "Pruning complete.  964115 of 1103547 variants removed.\n",
    "Marker lists written to data/allCombined.prune.in and\n",
    "data/allCombined.prune.out .\n",
    "\n",
    "```"
   ]
  },
  {
   "cell_type": "markdown",
   "id": "3771b9ec",
   "metadata": {},
   "source": [
    "* We will now extract the SNPs which passed the LD pruning."
   ]
  },
  {
   "cell_type": "markdown",
   "id": "3cf883b8",
   "metadata": {},
   "source": [
    "`plink --file data/allCombined --extract data/allCombined.prune.in --make-bed --out data/allCombinedLDPruned`\n",
    "\n",
    "```\n",
    "PLINK v1.90b6.21 64-bit (19 Oct 2020)          www.cog-genomics.org/plink/1.9/\n",
    "(C) 2005-2020 Shaun Purcell, Christopher Chang   GNU General Public License v3\n",
    "Logging to data/allCombinedLDPruned.log.\n",
    "Options in effect:\n",
    "  --extract data/allCombined.prune.in\n",
    "  --file data/allCombined\n",
    "  --make-bed\n",
    "  --out data/allCombinedLDPruned\n",
    "\n",
    "516841 MB RAM detected; reserving 258420 MB for main workspace.\n",
    ".ped scan complete (for binary autoconversion).\n",
    "Performing single-pass .bed write (1103547 variants, 394 people).\n",
    "--file: data/allCombinedLDPruned-temporary.bed\n",
    "data/allCombinedLDPruned-temporary.bim + data/allCombinedLDPruned-temporary.fam\n",
    "written.\n",
    "1103547 variants loaded from .bim file.\n",
    "394 people (0 males, 0 females, 394 ambiguous) loaded from .fam.\n",
    "Ambiguous sex IDs written to data/allCombinedLDPruned.nosex .\n",
    "--extract: 139469 variants remaining.\n",
    "Warning: At least 15 duplicate IDs in --extract file.\n",
    "Using 1 thread (no multithreaded calculations invoked).\n",
    "Before main variant filters, 394 founders and 0 nonfounders present.\n",
    "Calculating allele frequencies...  done.\n",
    "Total genotyping rate is 0.999632.\n",
    "139469 variants and 394 people pass filters and QC.\n",
    "Note: No phenotypes present.\n",
    "--make-bed to data/allCombinedLDPruned.bed + data/allCombinedLDPruned.bim +\n",
    "data/allCombinedLDPruned.fam ... .\n",
    "\n",
    "```"
   ]
  },
  {
   "cell_type": "markdown",
   "id": "18180637",
   "metadata": {},
   "source": [
    "***\n",
    "___"
   ]
  },
  {
   "cell_type": "markdown",
   "id": "95624233",
   "metadata": {},
   "source": [
    "## **Step 4.** During our last step of LD pruning, we also created a BED file from our original PED file. BED files hold the exact infomration as PED files, but in binary format.\n",
    "### You can create BED files from PED files using the following command"
   ]
  },
  {
   "cell_type": "markdown",
   "id": "f2e4f2de",
   "metadata": {},
   "source": [
    "`plink --file data/allCOmbined.chr22 --make-bed --out data/allCombined.chr22`\n",
    "\n",
    "```\n",
    "PLINK v1.90b6.21 64-bit (19 Oct 2020)          www.cog-genomics.org/plink/1.9/\n",
    "(C) 2005-2020 Shaun Purcell, Christopher Chang   GNU General Public License v3\n",
    "Logging to data/CLM.chr22.log.\n",
    "Options in effect:\n",
    "  --file data/CLM.chr22\n",
    "  --make-bed\n",
    "  --out data/CLM.chr22\n",
    "\n",
    "516841 MB RAM detected; reserving 258420 MB for main workspace.\n",
    ".ped scan complete (for binary autoconversion).\n",
    "Performing single-pass .bed write (1103547 variants, 94 people).\n",
    "--file: data/CLM.chr22-temporary.bed + data/CLM.chr22-temporary.bim \n",
    "data/CLM.chr22-temporary.fam written.\n",
    "1103547 variants loaded from .bim file.\n",
    "94 people (0 males, 0 females, 94 ambiguous) loaded from .fam.\n",
    "Ambiguous sex IDs written to data/CLM.chr22.nosex .\n",
    "Using 1 thread (no multithreaded calculations invoked).\n",
    "Before main variant filters, 94 founders and 0 nonfounders present.\n",
    "Calculating allele frequencies... done.\n",
    "Total genotyping rate is 0.999881.\n",
    "1103547 variants and 94 people pass filters and QC.\n",
    "Note: No phenotypes present.\n",
    "--make-bed to data/CLM.chr22.bed + data/CLM.chr22.bim + data/CLM.chr22.fam ....\n",
    "PLINK v1.90b6.21 64-bit (19 Oct 2020)          www.cog-genomics.org/plink/1.9/\n",
    "(C) 2005-2020 Shaun Purcell, Christopher Chang   GNU General Public License v3\n",
    "Logging to data/IBS.chr22.log.\n",
    "Options in effect:\n",
    "  --file data/IBS.chr22\n",
    "  --make-bed\n",
    "  --out data/IBS.chr22\n",
    "\n",
    "```"
   ]
  },
  {
   "cell_type": "markdown",
   "id": "9cfe7510",
   "metadata": {},
   "source": [
    "#### BED files are accompanied by BIM & FAM files which hold variant & sample information."
   ]
  },
  {
   "cell_type": "markdown",
   "id": "d6eed4b9",
   "metadata": {},
   "source": [
    "`ls data/*allCombinedLD*`\n",
    "\n",
    "```\n",
    "data/allCombinedLDPruned.bed  data/allCombinedLDPruned.log\n",
    "data/allCombinedLDPruned.bim  data/allCombinedLDPruned.nosex\n",
    "data/allCombinedLDPruned.fam\n",
    "```"
   ]
  },
  {
   "cell_type": "markdown",
   "id": "8d2ceecb",
   "metadata": {},
   "source": [
    "***\n",
    "___"
   ]
  }
 ],
 "metadata": {
  "kernelspec": {
   "display_name": "Python 3",
   "language": "python",
   "name": "python3"
  },
  "language_info": {
   "codemirror_mode": {
    "name": "ipython",
    "version": 3
   },
   "file_extension": ".py",
   "mimetype": "text/x-python",
   "name": "python",
   "nbconvert_exporter": "python",
   "pygments_lexer": "ipython3",
   "version": "3.7.10"
  }
 },
 "nbformat": 4,
 "nbformat_minor": 5
}
