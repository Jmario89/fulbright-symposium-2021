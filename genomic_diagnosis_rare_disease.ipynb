{
 "cells": [
  {
   "cell_type": "markdown",
   "id": "9ace83d3",
   "metadata": {},
   "source": [
    "# Genomic diagnosis of rare disease\n",
    "***"
   ]
  },
  {
   "cell_type": "markdown",
   "id": "6531f9ab",
   "metadata": {},
   "source": [
    "## **Step 1.** We start this session with selecting one individual from CLM population from 1000GP. For our case example of rare disease, we will be focusing on chromosome X."
   ]
  },
  {
   "cell_type": "markdown",
   "id": "1b882273",
   "metadata": {},
   "source": [
    "### 1. Our VCF file:\n",
    "+ `ls data/ALL.chrX*`\n",
    "\n",
    "```\n",
    "data/ALL.chrX.shapeit2_integrated_snvindels_v2a_27022019.GRCh38.phased.vcf\n",
    "```"
   ]
  },
  {
   "cell_type": "markdown",
   "id": "eb71ae30",
   "metadata": {},
   "source": [
    "### 2. We will use plink's _--keep_ flag to extract one CLM individual. (1000GP code = HG01459). First, we create a simple text file: \n",
    "+ `cat data/randomCLMIndividual.txt`\n",
    "\n",
    "```\n",
    "HG01459 HG01459\n",
    "```"
   ]
  },
  {
   "cell_type": "markdown",
   "id": "11362d19",
   "metadata": {},
   "source": [
    " \n",
    "### 3. Using plink and --keep\n",
    "+ `plink --vcf data/ALL.chrX.shapeit2_integrated_snvindels_v2a_27022019.GRCh38.phased.vcf --keep data/randomCLMIndividual.txt --make-bed --out data/randomCLMIndividual.chrX`\n",
    "\n",
    "```\n",
    "PLINK v1.90b6.21 64-bit (19 Oct 2020)          www.cog-genomics.org/plink/1.9/\n",
    "(C) 2005-2020 Shaun Purcell, Christopher Chang   GNU General Public License v3\n",
    "Logging to data/randomCLMIndividual.chrX.log.\n",
    "Options in effect:\n",
    "  --keep data/randomCLMIndividual.txt\n",
    "  --make-bed\n",
    "  --out data/randomCLMIndividual.chrX\n",
    "  --vcf data/ALL.chrX.shapeit2_integrated_snvindels_v2a_27022019.GRCh38.phased.vcf\n",
    "\n",
    "511706 MB RAM detected; reserving 255853 MB for main workspace.\n",
    "--vcf: data/randomCLMIndividual.chrX-temporary.bed +\n",
    "data/randomCLMIndividual.chrX-temporary.bim +\n",
    "data/randomCLMIndividual.chrX-temporary.fam written.\n",
    "106963 variants loaded from .bim file.\n",
    "2548 people (0 males, 0 females, 2548 ambiguous) loaded from .fam.\n",
    "Ambiguous sex IDs written to data/randomCLMIndividual.chrX.nosex .\n",
    "--keep: 1 person remaining.\n",
    "Using 1 thread (no multithreaded calculations invoked).\n",
    "Before main variant filters, 1 founder and 0 nonfounders present.\n",
    "Calculating allele frequencies...  done.\n",
    "106963 variants and 1 person pass filters and QC.\n",
    "Note: No phenotypes present.\n",
    "--make-bed to data/randomCLMIndividual.chrX.bed +\n",
    "data/randomCLMIndividual.chrX.bim + data/randomCLMIndividual.chrX.fam ... .\n",
    "```"
   ]
  },
  {
   "cell_type": "markdown",
   "id": "fc767078",
   "metadata": {},
   "source": [
    "### 4. We have BED file (and other related files) for the selected CLM individual. \n",
    "\n",
    "+ `ls data/randomCLMIndividual*`\n",
    "\n",
    "```\n",
    "data/randomCLMIndividual.chrX.bed  data/randomCLMIndividual.chrX.log\n",
    "data/randomCLMIndividual.chrX.bim  data/randomCLMIndividual.chrX.nosex\n",
    "data/randomCLMIndividual.chrX.fam  data/randomCLMIndividual.txt\n",
    "```\n",
    "\n",
    "+ `cat data/randomCLMIndividual.chrX.fam`\n",
    "\n",
    "```\n",
    "HG01459 HG01459 0 0 0 -9\n",
    "```"
   ]
  },
  {
   "cell_type": "markdown",
   "id": "ce1dff7c",
   "metadata": {},
   "source": [
    "### 5. Creating a VCF for our selected CLM random individual.\n",
    "\n",
    "+ `plink --bfile data/randomCLMIndividual.chrX --recode vcf --out data/randomCLMIndividual.chrX`\n",
    "\n",
    "```\n",
    "PLINK v1.90b6.21 64-bit (19 Oct 2020)          www.cog-genomics.org/plink/1.9/\n",
    "(C) 2005-2020 Shaun Purcell, Christopher Chang   GNU General Public License v3\n",
    "Logging to data/randomCLMIndividual.chrX.log.\n",
    "Options in effect:\n",
    "  --bfile data/randomCLMIndividual.chrX\n",
    "  --out data/randomCLMIndividual.chrX\n",
    "  --recode vcf\n",
    "\n",
    "511706 MB RAM detected; reserving 255853 MB for main workspace.\n",
    "106963 variants loaded from .bim file.\n",
    "1 person (0 males, 0 females, 1 ambiguous) loaded from .fam.\n",
    "Ambiguous sex ID written to data/randomCLMIndividual.chrX.nosex .\n",
    "Using 1 thread (no multithreaded calculations invoked).\n",
    "Before main variant filters, 1 founder and 0 nonfounders present.\n",
    "Calculating allele frequencies...  done.\n",
    "106963 variants and 1 person pass filters and QC.\n",
    "Note: No phenotypes present.\n",
    "--recode vcf to data/randomCLMIndividual.chrX.vcf ...\n",
    "\n",
    "```\n",
    "***\n",
    "___"
   ]
  },
  {
   "cell_type": "markdown",
   "id": "4a8fcedc",
   "metadata": {},
   "source": [
    "## **Step 2.** We will now engineer a variant inside the VCF file manually."
   ]
  },
  {
   "cell_type": "markdown",
   "id": "9dbab444",
   "metadata": {},
   "source": [
    "### 1. Let's take a quick look at our VCF file.\n",
    "\n",
    "+ `head data/randomCLMIndividual.chrX.vcf -n 97890 | tail -n15`\n",
    "\n",
    "```\n",
    "23\t2781309\t.\tA\tT\t.\t.\tPR\tGT\t0/0\n",
    "23\t2781317\t.\tT\tG\t.\t.\tPR\tGT\t0/0\n",
    "23\t2781319\t.\tT\tC\t.\t.\tPR\tGT\t0/0\n",
    "23\t2781409\t.\tA\tC\t.\t.\tPR\tGT\t0/0\n",
    "23\t2781423\t.\tG\tA\t.\t.\tPR\tGT\t0/0\n",
    "23\t2781454\t.\tCTTAG\tC\t.\t.\tPR\tGT\t0/0\n",
    "23\t2781457\t.\tA\tG\t.\t.\tPR\tGT\t0/0\n",
    "23\t155703812\t.\tG\tA\t.\t.\tPR\tGT\t0/0\n",
    "23\t155703847\t.\tC\tA\t.\t.\tPR\tGT\t0/0\n",
    "23\t155703850\t.\tA\tC\t.\t.\tPR\tGT\t0/0\n",
    "23\t155703853\t.\tT\tG\t.\t.\tPR\tGT\t0/0\n",
    "23\t155703950\t.\tA\tT\t.\t.\tPR\tGT\t0/0\n",
    "23\t155703951\t.\tG\tC\t.\t.\tPR\tGT\t0/0\n",
    "23\t155703976\t.\tC\tT\t.\t.\tPR\tGT\t0/0\n",
    "23\t155704002\t.\tC\tT\t.\t.\tPR\tGT\t0/0\n",
    "```"
   ]
  },
  {
   "cell_type": "markdown",
   "id": "b4d8c4ad",
   "metadata": {},
   "source": [
    "### 2. Let's insert the following entry into the VCF.\n",
    "\n",
    "> **```\n",
    "23  154863125  .  G  A  .  .  PR  GT  1/1\n",
    "```**"
   ]
  },
  {
   "cell_type": "markdown",
   "id": "8af0790c",
   "metadata": {},
   "source": [
    "### 3. Let's look at the engineered file.\n",
    "\n",
    "+ `head data/randomCLMIndividual.chrX.vcf -n 97890 | tail -n15`\n",
    "\n",
    "```\n",
    "23\t2781309\t.\tA\tT\t.\t.\tPR\tGT\t0/0\n",
    "23\t2781317\t.\tT\tG\t.\t.\tPR\tGT\t0/0\n",
    "23\t2781319\t.\tT\tC\t.\t.\tPR\tGT\t0/0\n",
    "23\t2781409\t.\tA\tC\t.\t.\tPR\tGT\t0/0\n",
    "23\t2781423\t.\tG\tA\t.\t.\tPR\tGT\t0/0\n",
    "23\t2781454\t.\tCTTAG\tC\t.\t.\tPR\tGT\t0/0\n",
    "23\t2781457\t.\tA\tG\t.\t.\tPR\tGT\t0/0\n",
    "```\n",
    "> `23\t154863125\t.\tG\tA\t.\t.\tPR\tGT\t1/1`\n",
    "```\n",
    "23\t155703812\t.\tG\tA\t.\t.\tPR\tGT\t0/0\n",
    "23\t155703847\t.\tC\tA\t.\t.\tPR\tGT\t0/0\n",
    "23\t155703850\t.\tA\tC\t.\t.\tPR\tGT\t0/0\n",
    "23\t155703853\t.\tT\tG\t.\t.\tPR\tGT\t0/0\n",
    "23\t155703950\t.\tA\tT\t.\t.\tPR\tGT\t0/0\n",
    "23\t155703951\t.\tG\tC\t.\t.\tPR\tGT\t0/0\n",
    "23\t155703976\t.\tC\tT\t.\t.\tPR\tGT\t0/0\n",
    "```\n",
    "***\n",
    "___"
   ]
  },
  {
   "cell_type": "markdown",
   "id": "2dd9cdf5",
   "metadata": {},
   "source": [
    "## **Step 3.** We will now process this file through VEP (Ensembl Variant Effect Predictor) tool."
   ]
  },
  {
   "cell_type": "code",
   "execution_count": null,
   "id": "2aee3dd4",
   "metadata": {},
   "outputs": [],
   "source": []
  }
 ],
 "metadata": {
  "kernelspec": {
   "display_name": "Python 3",
   "language": "python",
   "name": "python3"
  },
  "language_info": {
   "codemirror_mode": {
    "name": "ipython",
    "version": 3
   },
   "file_extension": ".py",
   "mimetype": "text/x-python",
   "name": "python",
   "nbconvert_exporter": "python",
   "pygments_lexer": "ipython3",
   "version": "3.7.10"
  }
 },
 "nbformat": 4,
 "nbformat_minor": 5
}
