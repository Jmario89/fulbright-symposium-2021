{
 "cells": [
  {
   "cell_type": "markdown",
   "id": "2fea1ce5",
   "metadata": {},
   "source": [
    "# Module 5 - Polygenic risk scores \n",
    "***"
   ]
  },
  {
   "cell_type": "markdown",
   "id": "5f630cef",
   "metadata": {},
   "source": [
    "## **Step 1.** In this session, we will start with obtaining a Polygenic Score (PGS) file from the PGS catalog: https://www.pgscatalog.org/"
   ]
  },
  {
   "cell_type": "markdown",
   "id": "7b616d93",
   "metadata": {},
   "source": [
    "+ The following file containg PGS scoring parameters for the traint: **ACPA-positive rheumatoid arthritis**\n",
    "\n",
    "    `wget https://ftp.ebi.ac.uk/pub/databases/spot/pgs/scores/PGS000194/ScoringFiles/PGS000194.txt.gz`"
   ]
  },
  {
   "cell_type": "markdown",
   "id": "3b451fa1",
   "metadata": {},
   "source": [
    "## **Step 2.** Next, we obtain VCF file with genotype calls for all chromosomes for all individuals from the CLM population from 1000GP. "
   ]
  },
  {
   "cell_type": "markdown",
   "id": "26b38646",
   "metadata": {},
   "source": [
    "`ls data/CLM.allChrs.forPGS*`\n",
    "\n",
    "```\n",
    "data/CLM.allChrs.forPGS.bed  data/CLM.allChrs.forPGS.log\n",
    "data/CLM.allChrs.forPGS.bim  data/CLM.allChrs.forPGS.nosex\n",
    "data/CLM.allChrs.forPGS.fam\n",
    "```"
   ]
  },
  {
   "cell_type": "markdown",
   "id": "101839b9",
   "metadata": {},
   "source": [
    "## Step 3. We will use **plink --score** flag to calculate Polygenic Risk Scores (PRS) for all the CLM individuals we have."
   ]
  },
  {
   "cell_type": "markdown",
   "id": "6591a91d",
   "metadata": {},
   "source": [
    "### 1. An important aspect of this process is to understand what resides in a PGS scoring file we obatined in th Step 1. So let's have a quick look at that:"
   ]
  },
  {
   "cell_type": "markdown",
   "id": "b0c175c6",
   "metadata": {},
   "source": [
    "+ `head data/PGS/PGS000194.forPlink.txt`\n",
    "\n",
    "```\n",
    "rsID\tchr_name\tchr_position\teffect_allele\treference_allele\teffect_weight\tweight_type\tallelefrequency_effect\tis_haplotype\timputation_method\tvariant_description\tOR\n",
    "rs10911628\t1\t184680369\tA\tC\t0.0\tlog(OR)\t0.06\tFALSE\t\t\t1.00\n",
    "rs11209026\t1\t67240275\tA\tG\t0.0\tlog(OR)\t0.06\tFALSE\t\t\t1.00\n",
    "rs11264341\t1\t155179017\tT\tC\t0.0\tlog(OR)\t0.41\tFALSE\t\t\t1.00\n",
    "rs12044149\t1\t67135003\tT\tG\t0.0\tlog(OR)\t0.24\tFALSE\t\t\t1.00\n",
    "rs12140275\t1\t38168207\tT\tA\t-0.11653381625595151\tlog(OR)\t0.22\tFALSE\t\t\t0.89\n",
    "rs12141575\t1\t67281753\tA\tG\t0.0\tlog(OR)\t0.34\tFALSE\t\t\t1.00\n",
    "rs1471633\t1\t145711327\tA\tC\t0.0\tlog(OR)\t0.49\tFALSE\t\t\t1.00\n",
    "rs17849501\t1\t183573188\tT\tC\t0.0\tlog(OR)\t0.06\tFALSE\t\t\t1.00\n",
    "rs1801274\t1\t161509955\tA\tG\t0.0\tlog(OR)\t0.49\tFALSE\t\t\t1.00\n",
    "```"
   ]
  },
  {
   "cell_type": "markdown",
   "id": "aacd244c",
   "metadata": {},
   "source": [
    "+ There are three columns in this file that are of key interest to us:\n",
    "    + rsID (SNP ID)\n",
    "        + This is a unique accession ID assigned to a variant by dbSNP. \n",
    "    + effect allele\n",
    "    + effect weight"
   ]
  },
  {
   "cell_type": "markdown",
   "id": "76ac9eee",
   "metadata": {},
   "source": [
    "### 2. Now that we understand what the three columns mean, we will use **plink --score**."
   ]
  },
  {
   "cell_type": "markdown",
   "id": "fab42594",
   "metadata": {},
   "source": [
    "+ `plink --bfile data/CLM.allChrs.forPGS --score data/PGS/PGS000194.forPlink.txt 1 4 8 header --out data/CLM.PGS000195.PGS`\n",
    "\n",
    "```\n",
    "PLINK v1.90b6.21 64-bit (19 Oct 2020)          www.cog-genomics.org/plink/1.9/\n",
    "(C) 2005-2020 Shaun Purcell, Christopher Chang   GNU General Public License v3\n",
    "Logging to data/CLM.PGS000195.PGS.log.\n",
    "Options in effect:\n",
    "  --bfile data/CLM.allChrs.forPGS\n",
    "  --out data/CLM.PGS000195.PGS\n",
    "  --score data/PGS/PGS000194.forPlink.txt 1 4 8 header\n",
    "\n",
    "511706 MB RAM detected; reserving 255853 MB for main workspace.\n",
    "208 variants loaded from .bim file.\n",
    "94 people (0 males, 0 females, 94 ambiguous) loaded from .fam.\n",
    "Ambiguous sex IDs written to data/CLM.PGS000195.PGS.nosex .\n",
    "Using 1 thread (no multithreaded calculations invoked).\n",
    "Before main variant filters, 94 founders and 0 nonfounders present.\n",
    "Calculating allele frequencies...  done.\n",
    "Total genotyping rate is 0.999489.\n",
    "208 variants and 94 people pass filters and QC.\n",
    "Note: No phenotypes present.\n",
    "Warning: 2 lines skipped in --score file (1 due to variant ID mismatch, 0 due\n",
    "to allele code mismatch); see data/CLM.PGS000195.PGS.nopred for details.\n",
    "--score: 207 valid predictors loaded.\n",
    "--score: Results written to data/CLM.PGS000195.PGS.profile .\n",
    "```"
   ]
  },
  {
   "cell_type": "markdown",
   "id": "7ec93e89",
   "metadata": {},
   "source": [
    "+ As indicated by plink, our results are in:\n",
    "    ```head data/CLM.PGS000195.PGS.profile```\n",
    "    \n",
    "    ```\n",
    "         FID       IID  PHENO    CNT   CNT2    SCORE\n",
    "  HG01112   HG01112     -9    414    130 0.110507\n",
    "  HG01113   HG01113     -9    414    115 0.0922705\n",
    "  HG01119   HG01119     -9    414    100 0.081087\n",
    "  HG01121   HG01121     -9    414    127 0.103406\n",
    "  HG01122   HG01122     -9    414    117 0.0991304\n",
    "  HG01124   HG01124     -9    414    121 0.0955314\n",
    "  HG01125   HG01125     -9    414    117 0.0976329\n",
    "  HG01130   HG01130     -9    414    119 0.103551\n",
    "  HG01131   HG01131     -9    412    125  0.10842\n",
    "    ```"
   ]
  },
  {
   "cell_type": "markdown",
   "id": "4fe0e18a",
   "metadata": {},
   "source": [
    "## Step 4. We will now regress the PRS scors for all 94 CLM individuals against their European & Native American ancestry percentage. "
   ]
  },
  {
   "cell_type": "markdown",
   "id": "96f64db6",
   "metadata": {},
   "source": [
    "### 1. Remeber from **Admixture** module, we have the three ancestry fractions: IBS, PEL, & YRI for all CLM individuals."
   ]
  },
  {
   "cell_type": "code",
   "execution_count": null,
   "id": "a6394328",
   "metadata": {},
   "outputs": [],
   "source": []
  }
 ],
 "metadata": {
  "kernelspec": {
   "display_name": "Python 3",
   "language": "python",
   "name": "python3"
  },
  "language_info": {
   "codemirror_mode": {
    "name": "ipython",
    "version": 3
   },
   "file_extension": ".py",
   "mimetype": "text/x-python",
   "name": "python",
   "nbconvert_exporter": "python",
   "pygments_lexer": "ipython3",
   "version": "3.7.10"
  }
 },
 "nbformat": 4,
 "nbformat_minor": 5
}
