{
 "cells": [
  {
   "cell_type": "markdown",
   "id": "17bede90",
   "metadata": {},
   "source": [
    "# Pharmacogenomics\n",
    "***"
   ]
  },
  {
   "cell_type": "markdown",
   "id": "85f8be63",
   "metadata": {},
   "source": [
    "## Step 1. We will extract the genotyping calls from CLM individuals for the gene: **MTHFR**"
   ]
  },
  {
   "cell_type": "code",
   "execution_count": null,
   "id": "87102169",
   "metadata": {},
   "outputs": [],
   "source": []
  }
 ],
 "metadata": {
  "kernelspec": {
   "display_name": "R",
   "language": "R",
   "name": "ir"
  },
  "language_info": {
   "codemirror_mode": "r",
   "file_extension": ".r",
   "mimetype": "text/x-r-source",
   "name": "R",
   "pygments_lexer": "r",
   "version": "3.6.0"
  }
 },
 "nbformat": 4,
 "nbformat_minor": 5
}
